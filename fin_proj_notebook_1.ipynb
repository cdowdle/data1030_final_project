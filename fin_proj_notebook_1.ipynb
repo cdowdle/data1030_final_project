{
 "cells": [
  {
   "cell_type": "markdown",
   "metadata": {
    "slideshow": {
     "slide_type": "slide"
    }
   },
   "source": [
    "First, we import our necessary libraries and import our desired csv file"
   ]
  },
  {
   "cell_type": "code",
   "execution_count": 7,
   "metadata": {
    "slideshow": {
     "slide_type": "slide"
    }
   },
   "outputs": [
    {
     "name": "stdout",
     "output_type": "stream",
     "text": [
      "    id              name    first       last compas_screening_date   sex  \\\n",
      "0  1.0  miguel hernandez   miguel  hernandez            14/08/2013  Male   \n",
      "1  2.0  miguel hernandez   miguel  hernandez            14/08/2013  Male   \n",
      "2  3.0      michael ryan  michael       ryan            31/12/2014  Male   \n",
      "3  4.0       kevon dixon    kevon      dixon            27/01/2013  Male   \n",
      "4  5.0          ed philo       ed      philo            14/04/2013  Male   \n",
      "\n",
      "          dob  age          age_cat              race  ...  \\\n",
      "0  18/04/1947   69  Greater than 45             Other  ...   \n",
      "1  18/04/1947   69  Greater than 45             Other  ...   \n",
      "2  06/02/1985   31          25 - 45         Caucasian  ...   \n",
      "3  22/01/1982   34          25 - 45  African-American  ...   \n",
      "4  14/05/1991   24     Less than 25  African-American  ...   \n",
      "\n",
      "   v_type_of_assessment  v_decile_score  v_score_text  v_screening_date  \\\n",
      "0      Risk of Violence               1           Low        14/08/2013   \n",
      "1      Risk of Violence               1           Low        14/08/2013   \n",
      "2      Risk of Violence               2           Low        31/12/2014   \n",
      "3      Risk of Violence               1           Low        27/01/2013   \n",
      "4      Risk of Violence               3           Low        14/04/2013   \n",
      "\n",
      "   in_custody  out_custody priors_count.1 start  end event  \n",
      "0  07/07/2014   14/07/2014              0     0  327     0  \n",
      "1  07/07/2014   14/07/2014              0   334  961     0  \n",
      "2  30/12/2014   03/01/2015              0     3  457     0  \n",
      "3  26/01/2013   05/02/2013              0     9  159     1  \n",
      "4  16/06/2013   16/06/2013              4     0   63     0  \n",
      "\n",
      "[5 rows x 52 columns]\n"
     ]
    }
   ],
   "source": [
    "import pandas as pd\n",
    "df = pd.read_csv('data/archive/cox-violent-parsed.csv')\n",
    "print(df.head())"
   ]
  },
  {
   "cell_type": "code",
   "execution_count": null,
   "metadata": {},
   "outputs": [],
   "source": []
  }
 ],
 "metadata": {
  "celltoolbar": "Slideshow",
  "kernelspec": {
   "display_name": "Python 3",
   "language": "python",
   "name": "python3"
  },
  "language_info": {
   "codemirror_mode": {
    "name": "ipython",
    "version": 3
   },
   "file_extension": ".py",
   "mimetype": "text/x-python",
   "name": "python",
   "nbconvert_exporter": "python",
   "pygments_lexer": "ipython3",
   "version": "3.7.8"
  }
 },
 "nbformat": 4,
 "nbformat_minor": 4
}
